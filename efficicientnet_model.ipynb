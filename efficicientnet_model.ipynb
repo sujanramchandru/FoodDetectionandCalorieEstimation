{
 "cells": [
  {
   "cell_type": "code",
   "execution_count": 2,
   "id": "89a2f78ca9d5e3e0",
   "metadata": {
    "ExecuteTime": {
     "end_time": "2024-07-16T11:56:49.375864Z",
     "start_time": "2024-07-16T11:56:46.472478Z"
    }
   },
   "outputs": [
    {
     "name": "stdout",
     "output_type": "stream",
     "text": [
      "Requirement already satisfied: tensorflow in c:\\users\\cheta\\pycharmprojects\\nutrition4\\.venv\\lib\\site-packages (2.16.2)\n",
      "Requirement already satisfied: tensorflow-hub in c:\\users\\cheta\\pycharmprojects\\nutrition4\\.venv\\lib\\site-packages (0.16.1)\n",
      "Requirement already satisfied: tensorflow-intel==2.16.2 in c:\\users\\cheta\\pycharmprojects\\nutrition4\\.venv\\lib\\site-packages (from tensorflow) (2.16.2)\n",
      "Requirement already satisfied: absl-py>=1.0.0 in c:\\users\\cheta\\pycharmprojects\\nutrition4\\.venv\\lib\\site-packages (from tensorflow-intel==2.16.2->tensorflow) (2.1.0)\n",
      "Requirement already satisfied: astunparse>=1.6.0 in c:\\users\\cheta\\pycharmprojects\\nutrition4\\.venv\\lib\\site-packages (from tensorflow-intel==2.16.2->tensorflow) (1.6.3)\n",
      "Requirement already satisfied: flatbuffers>=23.5.26 in c:\\users\\cheta\\pycharmprojects\\nutrition4\\.venv\\lib\\site-packages (from tensorflow-intel==2.16.2->tensorflow) (24.3.25)\n",
      "Requirement already satisfied: gast!=0.5.0,!=0.5.1,!=0.5.2,>=0.2.1 in c:\\users\\cheta\\pycharmprojects\\nutrition4\\.venv\\lib\\site-packages (from tensorflow-intel==2.16.2->tensorflow) (0.6.0)\n",
      "Requirement already satisfied: google-pasta>=0.1.1 in c:\\users\\cheta\\pycharmprojects\\nutrition4\\.venv\\lib\\site-packages (from tensorflow-intel==2.16.2->tensorflow) (0.2.0)\n",
      "Requirement already satisfied: h5py>=3.10.0 in c:\\users\\cheta\\pycharmprojects\\nutrition4\\.venv\\lib\\site-packages (from tensorflow-intel==2.16.2->tensorflow) (3.11.0)\n",
      "Requirement already satisfied: libclang>=13.0.0 in c:\\users\\cheta\\pycharmprojects\\nutrition4\\.venv\\lib\\site-packages (from tensorflow-intel==2.16.2->tensorflow) (18.1.1)\n",
      "Requirement already satisfied: ml-dtypes~=0.3.1 in c:\\users\\cheta\\pycharmprojects\\nutrition4\\.venv\\lib\\site-packages (from tensorflow-intel==2.16.2->tensorflow) (0.3.2)\n",
      "Requirement already satisfied: opt-einsum>=2.3.2 in c:\\users\\cheta\\pycharmprojects\\nutrition4\\.venv\\lib\\site-packages (from tensorflow-intel==2.16.2->tensorflow) (3.3.0)\n",
      "Requirement already satisfied: packaging in c:\\users\\cheta\\pycharmprojects\\nutrition4\\.venv\\lib\\site-packages (from tensorflow-intel==2.16.2->tensorflow) (24.1)\n",
      "Requirement already satisfied: protobuf!=4.21.0,!=4.21.1,!=4.21.2,!=4.21.3,!=4.21.4,!=4.21.5,<5.0.0dev,>=3.20.3 in c:\\users\\cheta\\pycharmprojects\\nutrition4\\.venv\\lib\\site-packages (from tensorflow-intel==2.16.2->tensorflow) (4.25.3)\n",
      "Requirement already satisfied: requests<3,>=2.21.0 in c:\\users\\cheta\\pycharmprojects\\nutrition4\\.venv\\lib\\site-packages (from tensorflow-intel==2.16.2->tensorflow) (2.32.3)\n",
      "Requirement already satisfied: setuptools in c:\\users\\cheta\\pycharmprojects\\nutrition4\\.venv\\lib\\site-packages (from tensorflow-intel==2.16.2->tensorflow) (70.0.0)\n",
      "Requirement already satisfied: six>=1.12.0 in c:\\users\\cheta\\pycharmprojects\\nutrition4\\.venv\\lib\\site-packages (from tensorflow-intel==2.16.2->tensorflow) (1.16.0)\n",
      "Requirement already satisfied: termcolor>=1.1.0 in c:\\users\\cheta\\pycharmprojects\\nutrition4\\.venv\\lib\\site-packages (from tensorflow-intel==2.16.2->tensorflow) (2.4.0)\n",
      "Requirement already satisfied: typing-extensions>=3.6.6 in c:\\users\\cheta\\pycharmprojects\\nutrition4\\.venv\\lib\\site-packages (from tensorflow-intel==2.16.2->tensorflow) (4.12.2)\n",
      "Requirement already satisfied: wrapt>=1.11.0 in c:\\users\\cheta\\pycharmprojects\\nutrition4\\.venv\\lib\\site-packages (from tensorflow-intel==2.16.2->tensorflow) (1.16.0)\n",
      "Requirement already satisfied: grpcio<2.0,>=1.24.3 in c:\\users\\cheta\\pycharmprojects\\nutrition4\\.venv\\lib\\site-packages (from tensorflow-intel==2.16.2->tensorflow) (1.64.1)\n",
      "Requirement already satisfied: tensorboard<2.17,>=2.16 in c:\\users\\cheta\\pycharmprojects\\nutrition4\\.venv\\lib\\site-packages (from tensorflow-intel==2.16.2->tensorflow) (2.16.2)\n",
      "Requirement already satisfied: keras>=3.0.0 in c:\\users\\cheta\\pycharmprojects\\nutrition4\\.venv\\lib\\site-packages (from tensorflow-intel==2.16.2->tensorflow) (3.4.1)\n",
      "Requirement already satisfied: tensorflow-io-gcs-filesystem>=0.23.1 in c:\\users\\cheta\\pycharmprojects\\nutrition4\\.venv\\lib\\site-packages (from tensorflow-intel==2.16.2->tensorflow) (0.31.0)\n",
      "Requirement already satisfied: numpy<2.0.0,>=1.23.5 in c:\\users\\cheta\\pycharmprojects\\nutrition4\\.venv\\lib\\site-packages (from tensorflow-intel==2.16.2->tensorflow) (1.26.4)\n",
      "Requirement already satisfied: tf-keras>=2.14.1 in c:\\users\\cheta\\pycharmprojects\\nutrition4\\.venv\\lib\\site-packages (from tensorflow-hub) (2.16.0)\n",
      "Requirement already satisfied: wheel<1.0,>=0.23.0 in c:\\users\\cheta\\pycharmprojects\\nutrition4\\.venv\\lib\\site-packages (from astunparse>=1.6.0->tensorflow-intel==2.16.2->tensorflow) (0.43.0)\n",
      "Requirement already satisfied: rich in c:\\users\\cheta\\pycharmprojects\\nutrition4\\.venv\\lib\\site-packages (from keras>=3.0.0->tensorflow-intel==2.16.2->tensorflow) (13.7.1)\n",
      "Requirement already satisfied: namex in c:\\users\\cheta\\pycharmprojects\\nutrition4\\.venv\\lib\\site-packages (from keras>=3.0.0->tensorflow-intel==2.16.2->tensorflow) (0.0.8)\n",
      "Requirement already satisfied: optree in c:\\users\\cheta\\pycharmprojects\\nutrition4\\.venv\\lib\\site-packages (from keras>=3.0.0->tensorflow-intel==2.16.2->tensorflow) (0.12.1)\n",
      "Requirement already satisfied: charset-normalizer<4,>=2 in c:\\users\\cheta\\pycharmprojects\\nutrition4\\.venv\\lib\\site-packages (from requests<3,>=2.21.0->tensorflow-intel==2.16.2->tensorflow) (3.3.2)\n",
      "Requirement already satisfied: idna<4,>=2.5 in c:\\users\\cheta\\pycharmprojects\\nutrition4\\.venv\\lib\\site-packages (from requests<3,>=2.21.0->tensorflow-intel==2.16.2->tensorflow) (3.7)\n",
      "Requirement already satisfied: urllib3<3,>=1.21.1 in c:\\users\\cheta\\pycharmprojects\\nutrition4\\.venv\\lib\\site-packages (from requests<3,>=2.21.0->tensorflow-intel==2.16.2->tensorflow) (2.2.2)\n",
      "Requirement already satisfied: certifi>=2017.4.17 in c:\\users\\cheta\\pycharmprojects\\nutrition4\\.venv\\lib\\site-packages (from requests<3,>=2.21.0->tensorflow-intel==2.16.2->tensorflow) (2024.7.4)\n",
      "Requirement already satisfied: markdown>=2.6.8 in c:\\users\\cheta\\pycharmprojects\\nutrition4\\.venv\\lib\\site-packages (from tensorboard<2.17,>=2.16->tensorflow-intel==2.16.2->tensorflow) (3.6)\n",
      "Requirement already satisfied: tensorboard-data-server<0.8.0,>=0.7.0 in c:\\users\\cheta\\pycharmprojects\\nutrition4\\.venv\\lib\\site-packages (from tensorboard<2.17,>=2.16->tensorflow-intel==2.16.2->tensorflow) (0.7.2)\n",
      "Requirement already satisfied: werkzeug>=1.0.1 in c:\\users\\cheta\\pycharmprojects\\nutrition4\\.venv\\lib\\site-packages (from tensorboard<2.17,>=2.16->tensorflow-intel==2.16.2->tensorflow) (3.0.3)\n",
      "Requirement already satisfied: MarkupSafe>=2.1.1 in c:\\users\\cheta\\pycharmprojects\\nutrition4\\.venv\\lib\\site-packages (from werkzeug>=1.0.1->tensorboard<2.17,>=2.16->tensorflow-intel==2.16.2->tensorflow) (2.1.5)\n",
      "Requirement already satisfied: markdown-it-py>=2.2.0 in c:\\users\\cheta\\pycharmprojects\\nutrition4\\.venv\\lib\\site-packages (from rich->keras>=3.0.0->tensorflow-intel==2.16.2->tensorflow) (3.0.0)\n",
      "Requirement already satisfied: pygments<3.0.0,>=2.13.0 in c:\\users\\cheta\\pycharmprojects\\nutrition4\\.venv\\lib\\site-packages (from rich->keras>=3.0.0->tensorflow-intel==2.16.2->tensorflow) (2.18.0)\n",
      "Requirement already satisfied: mdurl~=0.1 in c:\\users\\cheta\\pycharmprojects\\nutrition4\\.venv\\lib\\site-packages (from markdown-it-py>=2.2.0->rich->keras>=3.0.0->tensorflow-intel==2.16.2->tensorflow) (0.1.2)\n"
     ]
    },
    {
     "name": "stderr",
     "output_type": "stream",
     "text": [
      "\n",
      "[notice] A new release of pip is available: 24.0 -> 24.1.2\n",
      "[notice] To update, run: python.exe -m pip install --upgrade pip\n"
     ]
    }
   ],
   "source": [
    "!pip install tensorflow tensorflow-hub\n"
   ]
  },
  {
   "cell_type": "code",
   "execution_count": 1,
   "id": "initial_id",
   "metadata": {
    "ExecuteTime": {
     "start_time": "2024-07-16T11:56:52.593209Z"
    },
    "collapsed": true,
    "jupyter": {
     "is_executing": true
    }
   },
   "outputs": [],
   "source": [
    "import tensorflow as tf\n",
    "from tensorflow.keras.layers import Dense, GlobalAveragePooling2D, Input\n",
    "from tensorflow.keras.models import Model\n",
    "from tensorflow.keras.preprocessing.image import ImageDataGenerator\n",
    "from tensorflow.keras.callbacks import EarlyStopping, ReduceLROnPlateau\n",
    "from tensorflow.keras.applications import MobileNetV2\n",
    "from tensorflow.keras.utils import load_img\n",
    "from tensorflow.keras.applications import EfficientNetB0\n",
    "from tensorflow.keras.models import Sequential\n",
    "from PIL import Image\n",
    "\n",
    "\n",
    "\n",
    "import logging\n"
   ]
  },
  {
   "cell_type": "code",
   "execution_count": 2,
   "id": "89a7b33d424a67ea",
   "metadata": {
    "ExecuteTime": {
     "end_time": "2024-07-13T11:13:35.005442Z",
     "start_time": "2024-07-13T11:13:34.982741Z"
    }
   },
   "outputs": [],
   "source": [
    "train_dir = r'E:\\Projects\\Mini Project Food Detection and Calorie Estimation\\MiniProj FDCE\\food20dataset\\train_set'\n",
    "test_dir = r'E:\\Projects\\Mini Project Food Detection and Calorie Estimation\\MiniProj FDCE\\food20dataset\\test_set'\n"
   ]
  },
  {
   "cell_type": "code",
   "execution_count": 3,
   "id": "29b6ce8a2c195e04",
   "metadata": {
    "ExecuteTime": {
     "end_time": "2024-07-13T11:13:45.555574900Z",
     "start_time": "2024-07-13T11:13:42.180304200Z"
    }
   },
   "outputs": [
    {
     "name": "stdout",
     "output_type": "stream",
     "text": [
      "Found 1400 images belonging to 20 classes.\n",
      "Found 600 images belonging to 20 classes.\n"
     ]
    }
   ],
   "source": [
    "# Data generators for training, validation, and testing\n",
    "train_datagen = ImageDataGenerator(\n",
    "    rescale=1./255,\n",
    "    shear_range=0.2,\n",
    "    zoom_range=0.2,\n",
    "    horizontal_flip=True\n",
    ")\n",
    "\n",
    "validation_datagen = ImageDataGenerator(rescale=1./255)\n",
    "\n",
    "# Set target_size to (224, 224)\n",
    "train_generator = train_datagen.flow_from_directory(\n",
    "    train_dir,\n",
    "    target_size=(224, 224),\n",
    "    batch_size=32,\n",
    "    class_mode='categorical'\n",
    ")\n",
    "\n",
    "validation_generator = validation_datagen.flow_from_directory(\n",
    "    test_dir,\n",
    "    target_size=(224, 224),\n",
    "    batch_size=32,\n",
    "    class_mode='categorical'\n",
    ")"
   ]
  },
  {
   "cell_type": "code",
   "execution_count": 4,
   "id": "cee0ede02a6b56a5",
   "metadata": {
    "ExecuteTime": {
     "end_time": "2024-07-13T11:13:54.032335100Z",
     "start_time": "2024-07-13T11:13:52.746140900Z"
    }
   },
   "outputs": [],
   "source": [
    "\n",
    "# Load pre-trained EfficientNet model from Keras Applications\n",
    "efficientnet_model = EfficientNetB0(include_top=False, input_shape=(224, 224, 3), weights='imagenet')\n"
   ]
  },
  {
   "cell_type": "code",
   "execution_count": 15,
   "id": "6b6de6bc2ce1806d",
   "metadata": {
    "ExecuteTime": {
     "end_time": "2024-07-13T03:45:02.495939Z",
     "start_time": "2024-07-13T03:45:02.482540Z"
    }
   },
   "outputs": [],
   "source": [
    "# Build the EfficientNet model\n",
    "efficientnet_sequential_model = Sequential([\n",
    "    efficientnet_model,\n",
    "    GlobalAveragePooling2D(),\n",
    "    Dense(20, activation='softmax')\n",
    "])"
   ]
  },
  {
   "cell_type": "code",
   "execution_count": 16,
   "id": "175f013ec53f82bd",
   "metadata": {
    "ExecuteTime": {
     "end_time": "2024-07-13T03:45:09.669326Z",
     "start_time": "2024-07-13T03:45:09.647601Z"
    }
   },
   "outputs": [],
   "source": [
    "# Compile the EfficientNet model\n",
    "efficientnet_sequential_model.compile(\n",
    "    optimizer=tf.keras.optimizers.Adam(learning_rate=0.0001),\n",
    "    loss='categorical_crossentropy',\n",
    "    metrics=['accuracy']\n",
    ")"
   ]
  },
  {
   "cell_type": "code",
   "execution_count": 17,
   "id": "97ce34ff3910390a",
   "metadata": {
    "ExecuteTime": {
     "end_time": "2024-07-13T03:45:17.065024Z",
     "start_time": "2024-07-13T03:45:17.059101Z"
    }
   },
   "outputs": [],
   "source": [
    "# Early stopping callback to prevent overfitting\n",
    "early_stopping = EarlyStopping(monitor='val_loss', patience=5, restore_best_weights=True)\n"
   ]
  },
  {
   "cell_type": "code",
   "execution_count": 18,
   "id": "ffe3db264cc08ff",
   "metadata": {
    "ExecuteTime": {
     "start_time": "2024-07-13T03:45:27.456312Z"
    },
    "jupyter": {
     "is_executing": true
    }
   },
   "outputs": [
    {
     "name": "stdout",
     "output_type": "stream",
     "text": [
      "Epoch 1/20\n",
      "\u001b[1m44/44\u001b[0m \u001b[32m━━━━━━━━━━━━━━━━━━━━\u001b[0m\u001b[37m\u001b[0m \u001b[1m0s\u001b[0m 4s/step - accuracy: 0.1489 - loss: 2.8699"
     ]
    },
    {
     "name": "stderr",
     "output_type": "stream",
     "text": [
      "e:\\Projects\\Mini Project Food Detection and Calorie Estimation\\MiniProj FDCE\\venv\\Lib\\site-packages\\keras\\src\\trainers\\data_adapters\\py_dataset_adapter.py:121: UserWarning: Your `PyDataset` class should call `super().__init__(**kwargs)` in its constructor. `**kwargs` can include `workers`, `use_multiprocessing`, `max_queue_size`. Do not pass these arguments to `fit()`, as they will be ignored.\n",
      "  self._warn_if_super_not_called()\n"
     ]
    },
    {
     "name": "stdout",
     "output_type": "stream",
     "text": [
      "\u001b[1m44/44\u001b[0m \u001b[32m━━━━━━━━━━━━━━━━━━━━\u001b[0m\u001b[37m\u001b[0m \u001b[1m283s\u001b[0m 5s/step - accuracy: 0.1512 - loss: 2.8660 - val_accuracy: 0.0500 - val_loss: 3.0180\n",
      "Epoch 2/20\n",
      "\u001b[1m44/44\u001b[0m \u001b[32m━━━━━━━━━━━━━━━━━━━━\u001b[0m\u001b[37m\u001b[0m \u001b[1m241s\u001b[0m 6s/step - accuracy: 0.5673 - loss: 1.9940 - val_accuracy: 0.0500 - val_loss: 3.0107\n",
      "Epoch 3/20\n",
      "\u001b[1m44/44\u001b[0m \u001b[32m━━━━━━━━━━━━━━━━━━━━\u001b[0m\u001b[37m\u001b[0m \u001b[1m254s\u001b[0m 6s/step - accuracy: 0.7803 - loss: 1.1593 - val_accuracy: 0.0567 - val_loss: 3.0198\n",
      "Epoch 4/20\n",
      "\u001b[1m44/44\u001b[0m \u001b[32m━━━━━━━━━━━━━━━━━━━━\u001b[0m\u001b[37m\u001b[0m \u001b[1m254s\u001b[0m 6s/step - accuracy: 0.8431 - loss: 0.7371 - val_accuracy: 0.0633 - val_loss: 3.0264\n",
      "Epoch 5/20\n",
      "\u001b[1m44/44\u001b[0m \u001b[32m━━━━━━━━━━━━━━━━━━━━\u001b[0m\u001b[37m\u001b[0m \u001b[1m255s\u001b[0m 6s/step - accuracy: 0.9206 - loss: 0.4397 - val_accuracy: 0.1067 - val_loss: 3.0127\n",
      "Epoch 6/20\n",
      "\u001b[1m44/44\u001b[0m \u001b[32m━━━━━━━━━━━━━━━━━━━━\u001b[0m\u001b[37m\u001b[0m \u001b[1m234s\u001b[0m 5s/step - accuracy: 0.9348 - loss: 0.3465 - val_accuracy: 0.1700 - val_loss: 2.9224\n",
      "Epoch 7/20\n",
      "\u001b[1m44/44\u001b[0m \u001b[32m━━━━━━━━━━━━━━━━━━━━\u001b[0m\u001b[37m\u001b[0m \u001b[1m253s\u001b[0m 6s/step - accuracy: 0.9433 - loss: 0.2607 - val_accuracy: 0.1983 - val_loss: 2.8018\n",
      "Epoch 8/20\n",
      "\u001b[1m44/44\u001b[0m \u001b[32m━━━━━━━━━━━━━━━━━━━━\u001b[0m\u001b[37m\u001b[0m \u001b[1m253s\u001b[0m 6s/step - accuracy: 0.9673 - loss: 0.2034 - val_accuracy: 0.3283 - val_loss: 2.3223\n",
      "Epoch 9/20\n",
      "\u001b[1m44/44\u001b[0m \u001b[32m━━━━━━━━━━━━━━━━━━━━\u001b[0m\u001b[37m\u001b[0m \u001b[1m253s\u001b[0m 6s/step - accuracy: 0.9730 - loss: 0.1563 - val_accuracy: 0.4383 - val_loss: 1.9519\n",
      "Epoch 10/20\n",
      "\u001b[1m44/44\u001b[0m \u001b[32m━━━━━━━━━━━━━━━━━━━━\u001b[0m\u001b[37m\u001b[0m \u001b[1m198s\u001b[0m 4s/step - accuracy: 0.9765 - loss: 0.1304 - val_accuracy: 0.4217 - val_loss: 2.0162\n",
      "Epoch 11/20\n",
      "\u001b[1m44/44\u001b[0m \u001b[32m━━━━━━━━━━━━━━━━━━━━\u001b[0m\u001b[37m\u001b[0m \u001b[1m207s\u001b[0m 5s/step - accuracy: 0.9814 - loss: 0.0911 - val_accuracy: 0.5867 - val_loss: 1.5252\n",
      "Epoch 12/20\n",
      "\u001b[1m44/44\u001b[0m \u001b[32m━━━━━━━━━━━━━━━━━━━━\u001b[0m\u001b[37m\u001b[0m \u001b[1m274s\u001b[0m 6s/step - accuracy: 0.9850 - loss: 0.0791 - val_accuracy: 0.5167 - val_loss: 1.6126\n",
      "Epoch 13/20\n",
      "\u001b[1m44/44\u001b[0m \u001b[32m━━━━━━━━━━━━━━━━━━━━\u001b[0m\u001b[37m\u001b[0m \u001b[1m228s\u001b[0m 5s/step - accuracy: 0.9937 - loss: 0.0530 - val_accuracy: 0.5950 - val_loss: 1.3009\n",
      "Epoch 14/20\n",
      "\u001b[1m44/44\u001b[0m \u001b[32m━━━━━━━━━━━━━━━━━━━━\u001b[0m\u001b[37m\u001b[0m \u001b[1m214s\u001b[0m 5s/step - accuracy: 0.9924 - loss: 0.0640 - val_accuracy: 0.6583 - val_loss: 1.1831\n",
      "Epoch 15/20\n",
      "\u001b[1m44/44\u001b[0m \u001b[32m━━━━━━━━━━━━━━━━━━━━\u001b[0m\u001b[37m\u001b[0m \u001b[1m179s\u001b[0m 4s/step - accuracy: 0.9947 - loss: 0.0473 - val_accuracy: 0.5733 - val_loss: 1.5604\n",
      "Epoch 16/20\n",
      "\u001b[1m44/44\u001b[0m \u001b[32m━━━━━━━━━━━━━━━━━━━━\u001b[0m\u001b[37m\u001b[0m \u001b[1m180s\u001b[0m 4s/step - accuracy: 0.9958 - loss: 0.0454 - val_accuracy: 0.7467 - val_loss: 0.8617\n",
      "Epoch 17/20\n",
      "\u001b[1m44/44\u001b[0m \u001b[32m━━━━━━━━━━━━━━━━━━━━\u001b[0m\u001b[37m\u001b[0m \u001b[1m177s\u001b[0m 4s/step - accuracy: 0.9965 - loss: 0.0424 - val_accuracy: 0.7100 - val_loss: 1.0189\n",
      "Epoch 18/20\n",
      "\u001b[1m44/44\u001b[0m \u001b[32m━━━━━━━━━━━━━━━━━━━━\u001b[0m\u001b[37m\u001b[0m \u001b[1m178s\u001b[0m 4s/step - accuracy: 0.9975 - loss: 0.0317 - val_accuracy: 0.8050 - val_loss: 0.7374\n",
      "Epoch 19/20\n",
      "\u001b[1m44/44\u001b[0m \u001b[32m━━━━━━━━━━━━━━━━━━━━\u001b[0m\u001b[37m\u001b[0m \u001b[1m177s\u001b[0m 4s/step - accuracy: 0.9893 - loss: 0.0463 - val_accuracy: 0.4083 - val_loss: 2.1491\n",
      "Epoch 20/20\n",
      "\u001b[1m44/44\u001b[0m \u001b[32m━━━━━━━━━━━━━━━━━━━━\u001b[0m\u001b[37m\u001b[0m \u001b[1m175s\u001b[0m 4s/step - accuracy: 0.9964 - loss: 0.0263 - val_accuracy: 0.1900 - val_loss: 3.0389\n"
     ]
    }
   ],
   "source": [
    "'''# Train the EfficientNet model\n",
    "history = efficientnet_sequential_model.fit(\n",
    "    train_generator,\n",
    "    epochs=20,  # Adjust epochs based on your computational limits\n",
    "    validation_data=validation_generator,\n",
    "    callbacks=[early_stopping]\n",
    ")'''\n",
    "history = efficientnet_sequential_model.fit(\n",
    "    train_generator,\n",
    "    validation_data=validation_generator,\n",
    "    epochs=20,\n",
    "    callbacks=[early_stopping]\n",
    ")\n"
   ]
  },
  {
   "cell_type": "code",
   "execution_count": 19,
   "id": "fdf1407ba06ba783",
   "metadata": {
    "ExecuteTime": {
     "end_time": "2024-07-13T11:14:19.152260900Z",
     "start_time": "2024-07-13T11:14:16.916713Z"
    }
   },
   "outputs": [],
   "source": [
    "## Load pre-trained EfficientNet model from Keras Applications\n",
    "\n",
    "from tensorflow.keras.applications import EfficientNetB0\n",
    "from tensorflow.keras.models import Sequential\n",
    "\n",
    "\n",
    "efficientnet_model = EfficientNetB0(include_top=False, input_shape=(224, 224, 3), weights='imagenet')\n",
    "\n",
    "\n"
   ]
  },
  {
   "cell_type": "code",
   "execution_count": 21,
   "id": "5b6b906db81cfc98",
   "metadata": {
    "ExecuteTime": {
     "end_time": "2024-07-13T03:41:12.640277Z",
     "start_time": "2024-07-13T03:41:12.628269Z"
    }
   },
   "outputs": [],
   "source": [
    "# Build the model\n",
    "model = Sequential([\n",
    "    efficientnet_model,\n",
    "    GlobalAveragePooling2D(),\n",
    "    Dense(20, activation='softmax')\n",
    "])"
   ]
  },
  {
   "cell_type": "code",
   "execution_count": 22,
   "id": "2a4dac98c8054a8",
   "metadata": {
    "ExecuteTime": {
     "end_time": "2024-07-13T03:41:17.363410Z",
     "start_time": "2024-07-13T03:41:17.340382Z"
    }
   },
   "outputs": [],
   "source": [
    "# Compile the model\n",
    "model.compile(\n",
    "    optimizer=tf.keras.optimizers.Adam(learning_rate=0.0001),\n",
    "    loss='categorical_crossentropy',\n",
    "    metrics=['accuracy']\n",
    ")\n"
   ]
  },
  {
   "cell_type": "code",
   "execution_count": 23,
   "id": "db9f6d57978f1c36",
   "metadata": {
    "ExecuteTime": {
     "end_time": "2024-07-13T03:41:20.444798Z",
     "start_time": "2024-07-13T03:41:20.435489Z"
    }
   },
   "outputs": [],
   "source": [
    "# Early stopping callback to prevent overfitting\n",
    "early_stopping = EarlyStopping(monitor='val_loss', patience=5, restore_best_weights=True)\n"
   ]
  },
  {
   "cell_type": "code",
   "execution_count": 24,
   "id": "e7604150b836ada9",
   "metadata": {
    "ExecuteTime": {
     "end_time": "2024-07-13T03:41:25.248267Z",
     "start_time": "2024-07-13T03:41:22.324344Z"
    }
   },
   "outputs": [
    {
     "name": "stdout",
     "output_type": "stream",
     "text": [
      "Epoch 1/20\n",
      "\u001b[1m44/44\u001b[0m \u001b[32m━━━━━━━━━━━━━━━━━━━━\u001b[0m\u001b[37m\u001b[0m \u001b[1m226s\u001b[0m 4s/step - accuracy: 0.0958 - loss: 2.9552 - val_accuracy: 0.0500 - val_loss: 3.0156\n",
      "Epoch 2/20\n",
      "\u001b[1m44/44\u001b[0m \u001b[32m━━━━━━━━━━━━━━━━━━━━\u001b[0m\u001b[37m\u001b[0m \u001b[1m182s\u001b[0m 4s/step - accuracy: 0.5086 - loss: 2.1589 - val_accuracy: 0.0533 - val_loss: 3.0036\n",
      "Epoch 3/20\n",
      "\u001b[1m44/44\u001b[0m \u001b[32m━━━━━━━━━━━━━━━━━━━━\u001b[0m\u001b[37m\u001b[0m \u001b[1m181s\u001b[0m 4s/step - accuracy: 0.7744 - loss: 1.2829 - val_accuracy: 0.0483 - val_loss: 3.0038\n",
      "Epoch 4/20\n",
      "\u001b[1m44/44\u001b[0m \u001b[32m━━━━━━━━━━━━━━━━━━━━\u001b[0m\u001b[37m\u001b[0m \u001b[1m180s\u001b[0m 4s/step - accuracy: 0.8419 - loss: 0.7802 - val_accuracy: 0.0500 - val_loss: 3.0109\n",
      "Epoch 5/20\n",
      "\u001b[1m44/44\u001b[0m \u001b[32m━━━━━━━━━━━━━━━━━━━━\u001b[0m\u001b[37m\u001b[0m \u001b[1m180s\u001b[0m 4s/step - accuracy: 0.8653 - loss: 0.5429 - val_accuracy: 0.0667 - val_loss: 2.9639\n",
      "Epoch 6/20\n",
      "\u001b[1m44/44\u001b[0m \u001b[32m━━━━━━━━━━━━━━━━━━━━\u001b[0m\u001b[37m\u001b[0m \u001b[1m184s\u001b[0m 4s/step - accuracy: 0.9190 - loss: 0.3891 - val_accuracy: 0.1300 - val_loss: 2.8330\n",
      "Epoch 7/20\n",
      "\u001b[1m44/44\u001b[0m \u001b[32m━━━━━━━━━━━━━━━━━━━━\u001b[0m\u001b[37m\u001b[0m \u001b[1m183s\u001b[0m 4s/step - accuracy: 0.9325 - loss: 0.2917 - val_accuracy: 0.1883 - val_loss: 2.7022\n",
      "Epoch 8/20\n",
      "\u001b[1m44/44\u001b[0m \u001b[32m━━━━━━━━━━━━━━━━━━━━\u001b[0m\u001b[37m\u001b[0m \u001b[1m184s\u001b[0m 4s/step - accuracy: 0.9661 - loss: 0.2018 - val_accuracy: 0.2367 - val_loss: 2.5012\n",
      "Epoch 9/20\n",
      "\u001b[1m44/44\u001b[0m \u001b[32m━━━━━━━━━━━━━━━━━━━━\u001b[0m\u001b[37m\u001b[0m \u001b[1m182s\u001b[0m 4s/step - accuracy: 0.9728 - loss: 0.1731 - val_accuracy: 0.3000 - val_loss: 2.3377\n",
      "Epoch 10/20\n",
      "\u001b[1m44/44\u001b[0m \u001b[32m━━━━━━━━━━━━━━━━━━━━\u001b[0m\u001b[37m\u001b[0m \u001b[1m182s\u001b[0m 4s/step - accuracy: 0.9738 - loss: 0.1375 - val_accuracy: 0.4217 - val_loss: 2.0129\n",
      "Epoch 11/20\n",
      "\u001b[1m44/44\u001b[0m \u001b[32m━━━━━━━━━━━━━━━━━━━━\u001b[0m\u001b[37m\u001b[0m \u001b[1m191s\u001b[0m 4s/step - accuracy: 0.9753 - loss: 0.1234 - val_accuracy: 0.3967 - val_loss: 2.1053\n",
      "Epoch 12/20\n",
      "\u001b[1m44/44\u001b[0m \u001b[32m━━━━━━━━━━━━━━━━━━━━\u001b[0m\u001b[37m\u001b[0m \u001b[1m182s\u001b[0m 4s/step - accuracy: 0.9845 - loss: 0.0817 - val_accuracy: 0.4617 - val_loss: 1.8160\n",
      "Epoch 13/20\n",
      "\u001b[1m44/44\u001b[0m \u001b[32m━━━━━━━━━━━━━━━━━━━━\u001b[0m\u001b[37m\u001b[0m \u001b[1m182s\u001b[0m 4s/step - accuracy: 0.9897 - loss: 0.0748 - val_accuracy: 0.4200 - val_loss: 1.9402\n",
      "Epoch 14/20\n",
      "\u001b[1m44/44\u001b[0m \u001b[32m━━━━━━━━━━━━━━━━━━━━\u001b[0m\u001b[37m\u001b[0m \u001b[1m181s\u001b[0m 4s/step - accuracy: 0.9919 - loss: 0.0570 - val_accuracy: 0.5100 - val_loss: 1.6733\n",
      "Epoch 15/20\n",
      "\u001b[1m44/44\u001b[0m \u001b[32m━━━━━━━━━━━━━━━━━━━━\u001b[0m\u001b[37m\u001b[0m \u001b[1m181s\u001b[0m 4s/step - accuracy: 0.9944 - loss: 0.0524 - val_accuracy: 0.4283 - val_loss: 2.1887\n",
      "Epoch 16/20\n",
      "\u001b[1m44/44\u001b[0m \u001b[32m━━━━━━━━━━━━━━━━━━━━\u001b[0m\u001b[37m\u001b[0m \u001b[1m226s\u001b[0m 5s/step - accuracy: 0.9892 - loss: 0.0600 - val_accuracy: 0.7817 - val_loss: 0.8090\n",
      "Epoch 17/20\n",
      "\u001b[1m44/44\u001b[0m \u001b[32m━━━━━━━━━━━━━━━━━━━━\u001b[0m\u001b[37m\u001b[0m \u001b[1m219s\u001b[0m 5s/step - accuracy: 0.9890 - loss: 0.0481 - val_accuracy: 0.4250 - val_loss: 1.9012\n",
      "Epoch 18/20\n",
      "\u001b[1m44/44\u001b[0m \u001b[32m━━━━━━━━━━━━━━━━━━━━\u001b[0m\u001b[37m\u001b[0m \u001b[1m220s\u001b[0m 5s/step - accuracy: 0.9973 - loss: 0.0382 - val_accuracy: 0.7483 - val_loss: 0.9176\n",
      "Epoch 19/20\n",
      "\u001b[1m44/44\u001b[0m \u001b[32m━━━━━━━━━━━━━━━━━━━━\u001b[0m\u001b[37m\u001b[0m \u001b[1m222s\u001b[0m 5s/step - accuracy: 0.9952 - loss: 0.0303 - val_accuracy: 0.3600 - val_loss: 2.2655\n",
      "Epoch 20/20\n",
      "\u001b[1m44/44\u001b[0m \u001b[32m━━━━━━━━━━━━━━━━━━━━\u001b[0m\u001b[37m\u001b[0m \u001b[1m238s\u001b[0m 5s/step - accuracy: 0.9958 - loss: 0.0344 - val_accuracy: 0.6450 - val_loss: 1.2246\n"
     ]
    }
   ],
   "source": [
    "# Train the model\n",
    "history = model.fit(\n",
    "    train_generator,\n",
    "    epochs=20,  # Adjust epochs based on your computational limits\n",
    "    validation_data=validation_generator,\n",
    "    callbacks=[early_stopping]\n",
    ")\n"
   ]
  },
  {
   "cell_type": "code",
   "execution_count": 38,
   "id": "97fd9216ead1aa1b",
   "metadata": {
    "ExecuteTime": {
     "end_time": "2024-07-13T11:14:52.341110400Z",
     "start_time": "2024-07-13T11:14:51.155685700Z"
    }
   },
   "outputs": [
    {
     "name": "stdout",
     "output_type": "stream",
     "text": [
      "Downloading data from https://storage.googleapis.com/tensorflow/keras-applications/mobilenet_v2/mobilenet_v2_weights_tf_dim_ordering_tf_kernels_1.0_224_no_top.h5\n",
      "\u001b[1m9406464/9406464\u001b[0m \u001b[32m━━━━━━━━━━━━━━━━━━━━\u001b[0m\u001b[37m\u001b[0m \u001b[1m1s\u001b[0m 0us/step\n"
     ]
    }
   ],
   "source": [
    "# Load pre-trained MobileNetV2 model from Keras Applications\n",
    "mobilenet_model = MobileNetV2(include_top=False, input_shape=(224, 224, 3), weights='imagenet')\n"
   ]
  },
  {
   "cell_type": "code",
   "execution_count": 39,
   "id": "6a0ee86f5fa43627",
   "metadata": {
    "ExecuteTime": {
     "end_time": "2024-07-12T09:03:54.257133Z",
     "start_time": "2024-07-12T09:03:54.226818Z"
    }
   },
   "outputs": [],
   "source": [
    "# Build the model\n",
    "input_layer = Input(shape=(224, 224, 3))\n",
    "x = mobilenet_model(input_layer)\n",
    "x = GlobalAveragePooling2D()(x)\n",
    "output_layer = Dense(20, activation='softmax')(x)\n",
    "model = Model(inputs=input_layer, outputs=output_layer)"
   ]
  },
  {
   "cell_type": "code",
   "execution_count": 40,
   "id": "69da8b6b4d44dcb3",
   "metadata": {
    "ExecuteTime": {
     "end_time": "2024-07-12T09:03:59.322576Z",
     "start_time": "2024-07-12T09:03:59.308026Z"
    }
   },
   "outputs": [],
   "source": [
    "# Compile the model\n",
    "model.compile(\n",
    "    optimizer=tf.keras.optimizers.Adam(learning_rate=0.0005),  # Adjusted learning rate\n",
    "    loss='categorical_crossentropy',\n",
    "    metrics=['accuracy']\n",
    ")"
   ]
  },
  {
   "cell_type": "code",
   "execution_count": 41,
   "id": "b8d0f71e512c7709",
   "metadata": {
    "ExecuteTime": {
     "end_time": "2024-07-12T09:04:07.546945Z",
     "start_time": "2024-07-12T09:04:07.530799Z"
    }
   },
   "outputs": [],
   "source": [
    "# Early stopping callback to prevent overfitting\n",
    "early_stopping = EarlyStopping(monitor='val_loss', patience=3, restore_best_weights=True)\n",
    "reduce_lr = ReduceLROnPlateau(monitor='val_loss', factor=0.2, patience=2, min_lr=0.00001)\n"
   ]
  },
  {
   "cell_type": "code",
   "execution_count": 43,
   "id": "649ed94ba54b32b4",
   "metadata": {
    "ExecuteTime": {
     "end_time": "2024-07-12T13:43:00.897875Z",
     "start_time": "2024-07-12T09:04:18.680911Z"
    }
   },
   "outputs": [
    {
     "name": "stdout",
     "output_type": "stream",
     "text": [
      "Epoch 1/10\n",
      "\u001b[1m44/44\u001b[0m \u001b[32m━━━━━━━━━━━━━━━━━━━━\u001b[0m\u001b[37m\u001b[0m \u001b[1m149s\u001b[0m 3s/step - accuracy: 0.9576 - loss: 0.1458 - val_accuracy: 0.6000 - val_loss: 1.5849 - learning_rate: 1.0000e-04\n",
      "Epoch 2/10\n",
      "\u001b[1m44/44\u001b[0m \u001b[32m━━━━━━━━━━━━━━━━━━━━\u001b[0m\u001b[37m\u001b[0m \u001b[1m149s\u001b[0m 3s/step - accuracy: 0.9869 - loss: 0.0680 - val_accuracy: 0.6483 - val_loss: 1.4148 - learning_rate: 1.0000e-04\n",
      "Epoch 3/10\n",
      "\u001b[1m44/44\u001b[0m \u001b[32m━━━━━━━━━━━━━━━━━━━━\u001b[0m\u001b[37m\u001b[0m \u001b[1m148s\u001b[0m 3s/step - accuracy: 0.9932 - loss: 0.0461 - val_accuracy: 0.6400 - val_loss: 1.4328 - learning_rate: 1.0000e-04\n",
      "Epoch 4/10\n",
      "\u001b[1m44/44\u001b[0m \u001b[32m━━━━━━━━━━━━━━━━━━━━\u001b[0m\u001b[37m\u001b[0m \u001b[1m148s\u001b[0m 3s/step - accuracy: 0.9947 - loss: 0.0331 - val_accuracy: 0.6350 - val_loss: 1.4488 - learning_rate: 1.0000e-04\n",
      "Epoch 5/10\n",
      "\u001b[1m44/44\u001b[0m \u001b[32m━━━━━━━━━━━━━━━━━━━━\u001b[0m\u001b[37m\u001b[0m \u001b[1m148s\u001b[0m 3s/step - accuracy: 0.9948 - loss: 0.0278 - val_accuracy: 0.6683 - val_loss: 1.3246 - learning_rate: 2.0000e-05\n",
      "Epoch 6/10\n",
      "\u001b[1m44/44\u001b[0m \u001b[32m━━━━━━━━━━━━━━━━━━━━\u001b[0m\u001b[37m\u001b[0m \u001b[1m147s\u001b[0m 3s/step - accuracy: 0.9994 - loss: 0.0244 - val_accuracy: 0.6833 - val_loss: 1.1708 - learning_rate: 2.0000e-05\n",
      "Epoch 7/10\n",
      "\u001b[1m44/44\u001b[0m \u001b[32m━━━━━━━━━━━━━━━━━━━━\u001b[0m\u001b[37m\u001b[0m \u001b[1m147s\u001b[0m 3s/step - accuracy: 0.9900 - loss: 0.0367 - val_accuracy: 0.7150 - val_loss: 1.0402 - learning_rate: 2.0000e-05\n",
      "Epoch 8/10\n",
      "\u001b[1m44/44\u001b[0m \u001b[32m━━━━━━━━━━━━━━━━━━━━\u001b[0m\u001b[37m\u001b[0m \u001b[1m148s\u001b[0m 3s/step - accuracy: 0.9988 - loss: 0.0177 - val_accuracy: 0.7383 - val_loss: 0.9265 - learning_rate: 2.0000e-05\n",
      "Epoch 9/10\n",
      "\u001b[1m44/44\u001b[0m \u001b[32m━━━━━━━━━━━━━━━━━━━━\u001b[0m\u001b[37m\u001b[0m \u001b[1m145s\u001b[0m 3s/step - accuracy: 0.9993 - loss: 0.0171 - val_accuracy: 0.7683 - val_loss: 0.8408 - learning_rate: 2.0000e-05\n",
      "Epoch 10/10\n",
      "\u001b[1m44/44\u001b[0m \u001b[32m━━━━━━━━━━━━━━━━━━━━\u001b[0m\u001b[37m\u001b[0m \u001b[1m204s\u001b[0m 3s/step - accuracy: 0.9962 - loss: 0.0234 - val_accuracy: 0.7900 - val_loss: 0.7687 - learning_rate: 2.0000e-05\n"
     ]
    }
   ],
   "source": [
    "# Train the model\n",
    "history = model.fit(\n",
    "    train_generator,\n",
    "    epochs=10,  # Reduced epochs to speed up training\n",
    "    validation_data=validation_generator,\n",
    "    callbacks=[early_stopping, reduce_lr]\n",
    ")"
   ]
  },
  {
   "cell_type": "code",
   "execution_count": 45,
   "id": "99a641f9858b4cc2",
   "metadata": {
    "ExecuteTime": {
     "end_time": "2024-07-16T11:56:36.842694Z",
     "start_time": "2024-07-16T11:56:36.607769Z"
    }
   },
   "outputs": [],
   "source": [
    "#model.save('C:/Users/RVITM/PycharmProjects/food/saved_models/my_model_eff.keras')\n",
    "model.save('E:/Projects/Mini Project Food Detection and Calorie Estimation/MiniProj FDCE/saved models/my_model_eff.keras')\n"
   ]
  }
 ],
 "metadata": {
  "kernelspec": {
   "display_name": "venv",
   "language": "python",
   "name": "python3"
  },
  "language_info": {
   "codemirror_mode": {
    "name": "ipython",
    "version": 3
   },
   "file_extension": ".py",
   "mimetype": "text/x-python",
   "name": "python",
   "nbconvert_exporter": "python",
   "pygments_lexer": "ipython3",
   "version": "3.11.9"
  }
 },
 "nbformat": 4,
 "nbformat_minor": 5
}
